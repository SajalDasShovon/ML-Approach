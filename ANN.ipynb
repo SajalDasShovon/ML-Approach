{
  "nbformat": 4,
  "nbformat_minor": 0,
  "metadata": {
    "colab": {
      "name": "ANN.ipynb",
      "provenance": [],
      "mount_file_id": "1NBMcydRwSVHRKgLlXQAMkeksFbBil74x",
      "authorship_tag": "ABX9TyPU78F1WDuGLdEiL8Lk6Lmo",
      "include_colab_link": true
    },
    "kernelspec": {
      "name": "python3",
      "display_name": "Python 3"
    },
    "language_info": {
      "name": "python"
    }
  },
  "cells": [
    {
      "cell_type": "markdown",
      "metadata": {
        "id": "view-in-github",
        "colab_type": "text"
      },
      "source": [
        "<a href=\"https://colab.research.google.com/github/SajalDasShovon/ML-Approach/blob/main/ANN.ipynb\" target=\"_parent\"><img src=\"https://colab.research.google.com/assets/colab-badge.svg\" alt=\"Open In Colab\"/></a>"
      ]
    },
    {
      "cell_type": "code",
      "execution_count": null,
      "metadata": {
        "id": "otaHE-OKrDtm"
      },
      "outputs": [],
      "source": [
        "#Import required libraries \n",
        "import keras #library for neural network\n",
        "import pandas as pd #loading data in table form  \n",
        "import seaborn as sns #visualisation \n",
        "import matplotlib.pyplot as plt #visualisation\n",
        "import numpy as np # linear algebra\n",
        "import pandas as pd # data processing, CSV file I/O (e.g. pd.read_csv)\n",
        "from sklearn.preprocessing import normalize #machine learning algorithm library"
      ]
    },
    {
      "cell_type": "code",
      "source": [
        "#Reading data \n",
        "data=pd.read_csv(\"/Iris.csv\")\n",
        "print(\"Describing the data: \",data.describe())\n",
        "print(\"Info of the data:\",data.info())"
      ],
      "metadata": {
        "colab": {
          "base_uri": "https://localhost:8080/"
        },
        "id": "-2mYJXV8rKsf",
        "outputId": "9d8b403f-85d7-48af-e50b-23d1298490c7"
      },
      "execution_count": null,
      "outputs": [
        {
          "output_type": "stream",
          "name": "stdout",
          "text": [
            "Describing the data:                 Id  SepalLengthCm  SepalWidthCm  PetalLengthCm  PetalWidthCm\n",
            "count  150.000000     150.000000    150.000000     150.000000    150.000000\n",
            "mean    75.500000       5.843333      3.054000       3.758667      1.198667\n",
            "std     43.445368       0.828066      0.433594       1.764420      0.763161\n",
            "min      1.000000       4.300000      2.000000       1.000000      0.100000\n",
            "25%     38.250000       5.100000      2.800000       1.600000      0.300000\n",
            "50%     75.500000       5.800000      3.000000       4.350000      1.300000\n",
            "75%    112.750000       6.400000      3.300000       5.100000      1.800000\n",
            "max    150.000000       7.900000      4.400000       6.900000      2.500000\n",
            "<class 'pandas.core.frame.DataFrame'>\n",
            "RangeIndex: 150 entries, 0 to 149\n",
            "Data columns (total 6 columns):\n",
            " #   Column         Non-Null Count  Dtype  \n",
            "---  ------         --------------  -----  \n",
            " 0   Id             150 non-null    int64  \n",
            " 1   SepalLengthCm  150 non-null    float64\n",
            " 2   SepalWidthCm   150 non-null    float64\n",
            " 3   PetalLengthCm  150 non-null    float64\n",
            " 4   PetalWidthCm   150 non-null    float64\n",
            " 5   Species        150 non-null    object \n",
            "dtypes: float64(4), int64(1), object(1)\n",
            "memory usage: 7.2+ KB\n",
            "Info of the data: None\n"
          ]
        }
      ]
    },
    {
      "cell_type": "code",
      "source": [
        "print(data[\"Species\"].unique())"
      ],
      "metadata": {
        "colab": {
          "base_uri": "https://localhost:8080/"
        },
        "id": "az45RFIxtMEq",
        "outputId": "8d08a4c2-cdcc-46a2-f791-bee78ac3a746"
      },
      "execution_count": null,
      "outputs": [
        {
          "output_type": "stream",
          "name": "stdout",
          "text": [
            "['Iris-setosa' 'Iris-versicolor' 'Iris-virginica']\n"
          ]
        }
      ]
    },
    {
      "cell_type": "code",
      "source": [
        "data.loc[data[\"Species\"]==\"Iris-setosa\",\"Species\"]=0\n",
        "data.loc[data[\"Species\"]==\"Iris-versicolor\",\"Species\"]=1\n",
        "data.loc[data[\"Species\"]==\"Iris-virginica\",\"Species\"]=2\n",
        "print(data.head())"
      ],
      "metadata": {
        "colab": {
          "base_uri": "https://localhost:8080/"
        },
        "id": "bjn-Jh2jtMBj",
        "outputId": "50026886-c667-4b0a-ae64-bdefd6476040"
      },
      "execution_count": null,
      "outputs": [
        {
          "output_type": "stream",
          "name": "stdout",
          "text": [
            "   Id  SepalLengthCm  SepalWidthCm  PetalLengthCm  PetalWidthCm Species\n",
            "0   1            5.1           3.5            1.4           0.2       0\n",
            "1   2            4.9           3.0            1.4           0.2       0\n",
            "2   3            4.7           3.2            1.3           0.2       0\n",
            "3   4            4.6           3.1            1.5           0.2       0\n",
            "4   5            5.0           3.6            1.4           0.2       0\n"
          ]
        }
      ]
    },
    {
      "cell_type": "code",
      "source": [
        "data=data.iloc[np.random.permutation(len(data))]\n",
        "print(data.head())"
      ],
      "metadata": {
        "colab": {
          "base_uri": "https://localhost:8080/"
        },
        "id": "XQuRfdDetL9j",
        "outputId": "53c23e1e-4465-4e64-a76a-26f05a31b99f"
      },
      "execution_count": null,
      "outputs": [
        {
          "output_type": "stream",
          "name": "stdout",
          "text": [
            "      Id  SepalLengthCm  SepalWidthCm  PetalLengthCm  PetalWidthCm Species\n",
            "126  127            6.2           2.8            4.8           1.8       2\n",
            "19    20            5.1           3.8            1.5           0.3       0\n",
            "4      5            5.0           3.6            1.4           0.2       0\n",
            "13    14            4.3           3.0            1.1           0.1       0\n",
            "20    21            5.4           3.4            1.7           0.2       0\n"
          ]
        }
      ]
    },
    {
      "cell_type": "code",
      "source": [
        "X=data.iloc[:,1:5].values\n",
        "y=data.iloc[:,5].values\n",
        "\n",
        "print(\"Shape of X\",X.shape)\n",
        "print(\"Shape of y\",y.shape)\n",
        "print(\"Examples of X\\n\",X[:3])\n",
        "print(\"Examples of y\\n\",y[:3])"
      ],
      "metadata": {
        "colab": {
          "base_uri": "https://localhost:8080/"
        },
        "id": "fRqU1LSNtplX",
        "outputId": "3b148809-b85e-49af-c5e6-1299b694af73"
      },
      "execution_count": null,
      "outputs": [
        {
          "output_type": "stream",
          "name": "stdout",
          "text": [
            "Shape of X (150, 4)\n",
            "Shape of y (150,)\n",
            "Examples of X\n",
            " [[6.2 2.8 4.8 1.8]\n",
            " [5.1 3.8 1.5 0.3]\n",
            " [5.  3.6 1.4 0.2]]\n",
            "Examples of y\n",
            " [2 0 0]\n"
          ]
        }
      ]
    },
    {
      "cell_type": "code",
      "source": [
        "X_normalized=normalize(X,axis=0)\n",
        "print(\"Examples of X_normalised\\n\",X_normalized[:3])"
      ],
      "metadata": {
        "colab": {
          "base_uri": "https://localhost:8080/"
        },
        "id": "7Xfwh7yvtpiG",
        "outputId": "e45fed5c-91f6-454b-803e-f5a584a74f46"
      },
      "execution_count": null,
      "outputs": [
        {
          "output_type": "stream",
          "name": "stdout",
          "text": [
            "Examples of X_normalised\n",
            " [[0.08578203 0.07412052 0.09444501 0.10352695]\n",
            " [0.07056264 0.10059213 0.02951407 0.01725449]\n",
            " [0.06917906 0.09529781 0.02754646 0.01150299]]\n"
          ]
        }
      ]
    },
    {
      "cell_type": "code",
      "source": [
        "#Creating train,test and validation data\n",
        "'''\n",
        "80% -- train data\n",
        "20% -- test data\n",
        "'''\n",
        "total_length=len(data)\n",
        "train_length=int(0.8*total_length)\n",
        "test_length=int(0.2*total_length)\n",
        "\n",
        "X_train=X_normalized[:train_length]\n",
        "X_test=X_normalized[train_length:]\n",
        "y_train=y[:train_length]\n",
        "y_test=y[train_length:]\n",
        "\n",
        "print(\"Length of train set x:\",X_train.shape[0],\"y:\",y_train.shape[0])\n",
        "print(\"Length of test set x:\",X_test.shape[0],\"y:\",y_test.shape[0])"
      ],
      "metadata": {
        "colab": {
          "base_uri": "https://localhost:8080/"
        },
        "id": "nuWqYWWBtpeu",
        "outputId": "8598d106-3e4b-4959-cf1e-a83360e3a84a"
      },
      "execution_count": null,
      "outputs": [
        {
          "output_type": "stream",
          "name": "stdout",
          "text": [
            "Length of train set x: 120 y: 120\n",
            "Length of test set x: 30 y: 30\n"
          ]
        }
      ]
    },
    {
      "cell_type": "code",
      "source": [
        "#Neural network module\n",
        "from keras.models import Sequential \n",
        "from keras.layers import Dense,Activation,Dropout\n",
        "from keras.utils import np_utils\n",
        "from keras.layers.normalization import BatchNormalization\n"
      ],
      "metadata": {
        "colab": {
          "base_uri": "https://localhost:8080/",
          "height": 356
        },
        "id": "lKhEEKTztpbm",
        "outputId": "33fff932-1134-454d-f25d-0ada10c8a756"
      },
      "execution_count": null,
      "outputs": [
        {
          "output_type": "error",
          "ename": "ImportError",
          "evalue": "ignored",
          "traceback": [
            "\u001b[0;31m---------------------------------------------------------------------------\u001b[0m",
            "\u001b[0;31mImportError\u001b[0m                               Traceback (most recent call last)",
            "\u001b[0;32m<ipython-input-15-819b81872222>\u001b[0m in \u001b[0;36m<module>\u001b[0;34m()\u001b[0m\n\u001b[1;32m      3\u001b[0m \u001b[0;32mfrom\u001b[0m \u001b[0mkeras\u001b[0m\u001b[0;34m.\u001b[0m\u001b[0mlayers\u001b[0m \u001b[0;32mimport\u001b[0m \u001b[0mDense\u001b[0m\u001b[0;34m,\u001b[0m\u001b[0mActivation\u001b[0m\u001b[0;34m,\u001b[0m\u001b[0mDropout\u001b[0m\u001b[0;34m\u001b[0m\u001b[0;34m\u001b[0m\u001b[0m\n\u001b[1;32m      4\u001b[0m \u001b[0;32mfrom\u001b[0m \u001b[0mkeras\u001b[0m\u001b[0;34m.\u001b[0m\u001b[0mutils\u001b[0m \u001b[0;32mimport\u001b[0m \u001b[0mnp_utils\u001b[0m\u001b[0;34m\u001b[0m\u001b[0;34m\u001b[0m\u001b[0m\n\u001b[0;32m----> 5\u001b[0;31m \u001b[0;32mfrom\u001b[0m \u001b[0mkeras\u001b[0m\u001b[0;34m.\u001b[0m\u001b[0mlayers\u001b[0m\u001b[0;34m.\u001b[0m\u001b[0mnormalization\u001b[0m \u001b[0;32mimport\u001b[0m \u001b[0mBatchNormalization\u001b[0m\u001b[0;34m\u001b[0m\u001b[0;34m\u001b[0m\u001b[0m\n\u001b[0m",
            "\u001b[0;31mImportError\u001b[0m: cannot import name 'BatchNormalization' from 'keras.layers.normalization' (/usr/local/lib/python3.7/dist-packages/keras/layers/normalization/__init__.py)",
            "",
            "\u001b[0;31m---------------------------------------------------------------------------\u001b[0;32m\nNOTE: If your import is failing due to a missing package, you can\nmanually install dependencies using either !pip or !apt.\n\nTo view examples of installing some common dependencies, click the\n\"Open Examples\" button below.\n\u001b[0;31m---------------------------------------------------------------------------\u001b[0m\n"
          ],
          "errorDetails": {
            "actions": [
              {
                "action": "open_url",
                "actionText": "Open Examples",
                "url": "/notebooks/snippets/importing_libraries.ipynb"
              }
            ]
          }
        }
      ]
    },
    {
      "cell_type": "code",
      "source": [
        "#Change the label to one hot vector\n",
        "'''\n",
        "[0]--->[1 0 0]\n",
        "[1]--->[0 1 0]\n",
        "[2]--->[0 0 1]\n",
        "'''\n",
        "y_train=np_utils.to_categorical(y_train,num_classes=3)\n",
        "y_test=np_utils.to_categorical(y_test,num_classes=3)\n",
        "print(\"Shape of y_train\",y_train.shape)\n",
        "print(\"Shape of y_test\",y_test.shape)"
      ],
      "metadata": {
        "colab": {
          "base_uri": "https://localhost:8080/"
        },
        "id": "DHUKdUbRtL47",
        "outputId": "88f8b9e0-e2c8-4636-897e-bd80762705e2"
      },
      "execution_count": null,
      "outputs": [
        {
          "output_type": "stream",
          "name": "stdout",
          "text": [
            "Shape of y_train (120, 3)\n",
            "Shape of y_test (30, 3)\n"
          ]
        }
      ]
    },
    {
      "cell_type": "code",
      "source": [
        "model=Sequential()\n",
        "model.add(Dense(1000,input_dim=4,activation='relu'))\n",
        "model.add(Dense(500,activation='relu'))\n",
        "model.add(Dense(300,activation='relu'))\n",
        "model.add(Dropout(0.2))\n",
        "model.add(Dense(3,activation='softmax'))\n",
        "model.compile(loss='categorical_crossentropy',optimizer='adam',metrics=['accuracy'])"
      ],
      "metadata": {
        "id": "p0xaQkbguwqq"
      },
      "execution_count": null,
      "outputs": []
    },
    {
      "cell_type": "code",
      "source": [
        "model.summary()"
      ],
      "metadata": {
        "colab": {
          "base_uri": "https://localhost:8080/"
        },
        "id": "o3Cczejruwn7",
        "outputId": "917fdb68-5dd3-4e4f-86a2-a7239c0fa753"
      },
      "execution_count": null,
      "outputs": [
        {
          "output_type": "stream",
          "name": "stdout",
          "text": [
            "Model: \"sequential\"\n",
            "_________________________________________________________________\n",
            " Layer (type)                Output Shape              Param #   \n",
            "=================================================================\n",
            " dense (Dense)               (None, 1000)              5000      \n",
            "                                                                 \n",
            " dense_1 (Dense)             (None, 500)               500500    \n",
            "                                                                 \n",
            " dense_2 (Dense)             (None, 300)               150300    \n",
            "                                                                 \n",
            " dropout (Dropout)           (None, 300)               0         \n",
            "                                                                 \n",
            " dense_3 (Dense)             (None, 3)                 903       \n",
            "                                                                 \n",
            "=================================================================\n",
            "Total params: 656,703\n",
            "Trainable params: 656,703\n",
            "Non-trainable params: 0\n",
            "_________________________________________________________________\n"
          ]
        }
      ]
    },
    {
      "cell_type": "code",
      "source": [
        "model.fit(X_train,y_train,validation_data=(X_test,y_test),batch_size=20,epochs=10,verbose=1)"
      ],
      "metadata": {
        "colab": {
          "base_uri": "https://localhost:8080/"
        },
        "id": "UZnSfLLRuwji",
        "outputId": "3e8c4ce3-e74c-46f5-a948-2395201aefef"
      },
      "execution_count": null,
      "outputs": [
        {
          "output_type": "stream",
          "name": "stdout",
          "text": [
            "Epoch 1/10\n",
            "6/6 [==============================] - 1s 47ms/step - loss: 1.0836 - accuracy: 0.3333 - val_loss: 1.0481 - val_accuracy: 0.9333\n",
            "Epoch 2/10\n",
            "6/6 [==============================] - 0s 13ms/step - loss: 1.0194 - accuracy: 0.7250 - val_loss: 0.9438 - val_accuracy: 1.0000\n",
            "Epoch 3/10\n",
            "6/6 [==============================] - 0s 13ms/step - loss: 0.8937 - accuracy: 0.7583 - val_loss: 0.7502 - val_accuracy: 0.8667\n",
            "Epoch 4/10\n",
            "6/6 [==============================] - 0s 14ms/step - loss: 0.7106 - accuracy: 0.8167 - val_loss: 0.5665 - val_accuracy: 1.0000\n",
            "Epoch 5/10\n",
            "6/6 [==============================] - 0s 13ms/step - loss: 0.5176 - accuracy: 0.8833 - val_loss: 0.3819 - val_accuracy: 1.0000\n",
            "Epoch 6/10\n",
            "6/6 [==============================] - 0s 13ms/step - loss: 0.3728 - accuracy: 0.9333 - val_loss: 0.2585 - val_accuracy: 1.0000\n",
            "Epoch 7/10\n",
            "6/6 [==============================] - 0s 13ms/step - loss: 0.2781 - accuracy: 0.9333 - val_loss: 0.1791 - val_accuracy: 1.0000\n",
            "Epoch 8/10\n",
            "6/6 [==============================] - 0s 17ms/step - loss: 0.2774 - accuracy: 0.8917 - val_loss: 0.2905 - val_accuracy: 0.9000\n",
            "Epoch 9/10\n",
            "6/6 [==============================] - 0s 13ms/step - loss: 0.2402 - accuracy: 0.8917 - val_loss: 0.1020 - val_accuracy: 1.0000\n",
            "Epoch 10/10\n",
            "6/6 [==============================] - 0s 13ms/step - loss: 0.2372 - accuracy: 0.8833 - val_loss: 0.0897 - val_accuracy: 1.0000\n"
          ]
        },
        {
          "output_type": "execute_result",
          "data": {
            "text/plain": [
              "<keras.callbacks.History at 0x7fd82514c5d0>"
            ]
          },
          "metadata": {},
          "execution_count": 19
        }
      ]
    },
    {
      "cell_type": "code",
      "source": [
        "prediction=model.predict(X_train)\n",
        "length=len(prediction)\n",
        "y_label=np.argmax(y_train,axis=1)\n",
        "predict_label=np.argmax(prediction,axis=1)\n",
        "\n",
        "accuracy=np.sum(y_label==predict_label)/length * 100 \n",
        "print(\"Accuracy of the dataset\",accuracy )"
      ],
      "metadata": {
        "colab": {
          "base_uri": "https://localhost:8080/"
        },
        "id": "UaJKNVwuuwdy",
        "outputId": "cc96908a-d215-463c-b114-404f8be882f3"
      },
      "execution_count": null,
      "outputs": [
        {
          "output_type": "stream",
          "name": "stdout",
          "text": [
            "Accuracy of the dataset 95.0\n"
          ]
        }
      ]
    }
  ]
}