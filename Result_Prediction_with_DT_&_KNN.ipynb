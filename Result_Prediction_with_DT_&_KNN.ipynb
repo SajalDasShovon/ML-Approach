{
  "cells": [
    {
      "cell_type": "markdown",
      "metadata": {
        "id": "view-in-github",
        "colab_type": "text"
      },
      "source": [
        "<a href=\"https://colab.research.google.com/github/SajalDasShovon/ML-Approach/blob/main/Result_Prediction_with_DT_%26_KNN.ipynb\" target=\"_parent\"><img src=\"https://colab.research.google.com/assets/colab-badge.svg\" alt=\"Open In Colab\"/></a>"
      ]
    },
    {
      "cell_type": "code",
      "execution_count": null,
      "metadata": {
        "id": "XfdO8oxTJtLo"
      },
      "outputs": [],
      "source": [
        "import numpy as np\n",
        "import pandas as pd\n",
        "from sklearn.tree import DecisionTreeClassifier \n",
        "from sklearn.neighbors import KNeighborsClassifier\n",
        "from sklearn.model_selection import train_test_split \n",
        "from sklearn.metrics import accuracy_score \n",
        "from sklearn.metrics import  confusion_matrix\n",
        "from matplotlib import pyplot as plt\n",
        "from sklearn import tree"
      ]
    },
    {
      "cell_type": "code",
      "execution_count": null,
      "metadata": {
        "id": "895V0IzIKa7D"
      },
      "outputs": [],
      "source": [
        "dataset = pd.read_csv(\"/content/drive/MyDrive/Colab Notebooks/Result Prediction Dataset.csv\", encoding='utf8', engine='python')"
      ]
    },
    {
      "cell_type": "code",
      "execution_count": null,
      "metadata": {
        "colab": {
          "base_uri": "https://localhost:8080/",
          "height": 302
        },
        "id": "LMeHMbjWKa1j",
        "outputId": "a37495ed-ebdf-472f-c0b1-702df93808ad"
      },
      "outputs": [
        {
          "data": {
            "text/html": [
              "\n",
              "  <div id=\"df-bbb4a958-f225-46e5-9b36-683ab4eed138\">\n",
              "    <div class=\"colab-df-container\">\n",
              "      <div>\n",
              "<style scoped>\n",
              "    .dataframe tbody tr th:only-of-type {\n",
              "        vertical-align: middle;\n",
              "    }\n",
              "\n",
              "    .dataframe tbody tr th {\n",
              "        vertical-align: top;\n",
              "    }\n",
              "\n",
              "    .dataframe thead th {\n",
              "        text-align: right;\n",
              "    }\n",
              "</style>\n",
              "<table border=\"1\" class=\"dataframe\">\n",
              "  <thead>\n",
              "    <tr style=\"text-align: right;\">\n",
              "      <th></th>\n",
              "      <th>Daily Study Hour (0 - )</th>\n",
              "      <th>Average CT Marks (0 - 20)</th>\n",
              "      <th>Class Attendance (percentage)</th>\n",
              "      <th>PL/SPL Study Hours (Daily) (0 - )</th>\n",
              "      <th>PL/SPL Sleeping Hours (Daily Average)</th>\n",
              "      <th>Average Sleeping Hours (Daily)</th>\n",
              "      <th>Social Media Hours (Daily Average)</th>\n",
              "      <th>PL/SPL Social Media Hours (Daily Average)</th>\n",
              "      <th>Concentration in Classes (0 - 10)</th>\n",
              "      <th>Confidence (0 - 10)</th>\n",
              "      <th>GPA</th>\n",
              "    </tr>\n",
              "  </thead>\n",
              "  <tbody>\n",
              "    <tr>\n",
              "      <th>0</th>\n",
              "      <td>1</td>\n",
              "      <td>8</td>\n",
              "      <td>65</td>\n",
              "      <td>12</td>\n",
              "      <td>6</td>\n",
              "      <td>8.0</td>\n",
              "      <td>3</td>\n",
              "      <td>1</td>\n",
              "      <td>NaN</td>\n",
              "      <td>3</td>\n",
              "      <td>3.25</td>\n",
              "    </tr>\n",
              "    <tr>\n",
              "      <th>1</th>\n",
              "      <td>2</td>\n",
              "      <td>12</td>\n",
              "      <td>95</td>\n",
              "      <td>9</td>\n",
              "      <td>10</td>\n",
              "      <td>10.0</td>\n",
              "      <td>2</td>\n",
              "      <td>1</td>\n",
              "      <td>7.0</td>\n",
              "      <td>7</td>\n",
              "      <td>3.84</td>\n",
              "    </tr>\n",
              "    <tr>\n",
              "      <th>2</th>\n",
              "      <td>2</td>\n",
              "      <td>15</td>\n",
              "      <td>96</td>\n",
              "      <td>13</td>\n",
              "      <td>6</td>\n",
              "      <td>8.0</td>\n",
              "      <td>5</td>\n",
              "      <td>2</td>\n",
              "      <td>5.0</td>\n",
              "      <td>8</td>\n",
              "      <td>3.61</td>\n",
              "    </tr>\n",
              "    <tr>\n",
              "      <th>3</th>\n",
              "      <td>1</td>\n",
              "      <td>9</td>\n",
              "      <td>70</td>\n",
              "      <td>6</td>\n",
              "      <td>8</td>\n",
              "      <td>8.0</td>\n",
              "      <td>3</td>\n",
              "      <td>2</td>\n",
              "      <td>7.0</td>\n",
              "      <td>9</td>\n",
              "      <td>3.41</td>\n",
              "    </tr>\n",
              "    <tr>\n",
              "      <th>4</th>\n",
              "      <td>1</td>\n",
              "      <td>8</td>\n",
              "      <td>60</td>\n",
              "      <td>10</td>\n",
              "      <td>9</td>\n",
              "      <td>8.0</td>\n",
              "      <td>2</td>\n",
              "      <td>2</td>\n",
              "      <td>3.0</td>\n",
              "      <td>4</td>\n",
              "      <td>3.14</td>\n",
              "    </tr>\n",
              "  </tbody>\n",
              "</table>\n",
              "</div>\n",
              "      <button class=\"colab-df-convert\" onclick=\"convertToInteractive('df-bbb4a958-f225-46e5-9b36-683ab4eed138')\"\n",
              "              title=\"Convert this dataframe to an interactive table.\"\n",
              "              style=\"display:none;\">\n",
              "        \n",
              "  <svg xmlns=\"http://www.w3.org/2000/svg\" height=\"24px\"viewBox=\"0 0 24 24\"\n",
              "       width=\"24px\">\n",
              "    <path d=\"M0 0h24v24H0V0z\" fill=\"none\"/>\n",
              "    <path d=\"M18.56 5.44l.94 2.06.94-2.06 2.06-.94-2.06-.94-.94-2.06-.94 2.06-2.06.94zm-11 1L8.5 8.5l.94-2.06 2.06-.94-2.06-.94L8.5 2.5l-.94 2.06-2.06.94zm10 10l.94 2.06.94-2.06 2.06-.94-2.06-.94-.94-2.06-.94 2.06-2.06.94z\"/><path d=\"M17.41 7.96l-1.37-1.37c-.4-.4-.92-.59-1.43-.59-.52 0-1.04.2-1.43.59L10.3 9.45l-7.72 7.72c-.78.78-.78 2.05 0 2.83L4 21.41c.39.39.9.59 1.41.59.51 0 1.02-.2 1.41-.59l7.78-7.78 2.81-2.81c.8-.78.8-2.07 0-2.86zM5.41 20L4 18.59l7.72-7.72 1.47 1.35L5.41 20z\"/>\n",
              "  </svg>\n",
              "      </button>\n",
              "      \n",
              "  <style>\n",
              "    .colab-df-container {\n",
              "      display:flex;\n",
              "      flex-wrap:wrap;\n",
              "      gap: 12px;\n",
              "    }\n",
              "\n",
              "    .colab-df-convert {\n",
              "      background-color: #E8F0FE;\n",
              "      border: none;\n",
              "      border-radius: 50%;\n",
              "      cursor: pointer;\n",
              "      display: none;\n",
              "      fill: #1967D2;\n",
              "      height: 32px;\n",
              "      padding: 0 0 0 0;\n",
              "      width: 32px;\n",
              "    }\n",
              "\n",
              "    .colab-df-convert:hover {\n",
              "      background-color: #E2EBFA;\n",
              "      box-shadow: 0px 1px 2px rgba(60, 64, 67, 0.3), 0px 1px 3px 1px rgba(60, 64, 67, 0.15);\n",
              "      fill: #174EA6;\n",
              "    }\n",
              "\n",
              "    [theme=dark] .colab-df-convert {\n",
              "      background-color: #3B4455;\n",
              "      fill: #D2E3FC;\n",
              "    }\n",
              "\n",
              "    [theme=dark] .colab-df-convert:hover {\n",
              "      background-color: #434B5C;\n",
              "      box-shadow: 0px 1px 3px 1px rgba(0, 0, 0, 0.15);\n",
              "      filter: drop-shadow(0px 1px 2px rgba(0, 0, 0, 0.3));\n",
              "      fill: #FFFFFF;\n",
              "    }\n",
              "  </style>\n",
              "\n",
              "      <script>\n",
              "        const buttonEl =\n",
              "          document.querySelector('#df-bbb4a958-f225-46e5-9b36-683ab4eed138 button.colab-df-convert');\n",
              "        buttonEl.style.display =\n",
              "          google.colab.kernel.accessAllowed ? 'block' : 'none';\n",
              "\n",
              "        async function convertToInteractive(key) {\n",
              "          const element = document.querySelector('#df-bbb4a958-f225-46e5-9b36-683ab4eed138');\n",
              "          const dataTable =\n",
              "            await google.colab.kernel.invokeFunction('convertToInteractive',\n",
              "                                                     [key], {});\n",
              "          if (!dataTable) return;\n",
              "\n",
              "          const docLinkHtml = 'Like what you see? Visit the ' +\n",
              "            '<a target=\"_blank\" href=https://colab.research.google.com/notebooks/data_table.ipynb>data table notebook</a>'\n",
              "            + ' to learn more about interactive tables.';\n",
              "          element.innerHTML = '';\n",
              "          dataTable['output_type'] = 'display_data';\n",
              "          await google.colab.output.renderOutput(dataTable, element);\n",
              "          const docLink = document.createElement('div');\n",
              "          docLink.innerHTML = docLinkHtml;\n",
              "          element.appendChild(docLink);\n",
              "        }\n",
              "      </script>\n",
              "    </div>\n",
              "  </div>\n",
              "  "
            ],
            "text/plain": [
              "   Daily Study Hour (0 - )  ...   GPA\n",
              "0                        1  ...  3.25\n",
              "1                        2  ...  3.84\n",
              "2                        2  ...  3.61\n",
              "3                        1  ...  3.41\n",
              "4                        1  ...  3.14\n",
              "\n",
              "[5 rows x 11 columns]"
            ]
          },
          "execution_count": 4,
          "metadata": {},
          "output_type": "execute_result"
        }
      ],
      "source": [
        "dataset.head()"
      ]
    },
    {
      "cell_type": "code",
      "execution_count": null,
      "metadata": {
        "colab": {
          "base_uri": "https://localhost:8080/",
          "height": 270
        },
        "id": "CeXsD3_pKawd",
        "outputId": "7723da48-52cb-4100-8419-dfbf52de8fc9"
      },
      "outputs": [
        {
          "data": {
            "text/html": [
              "\n",
              "  <div id=\"df-3819a2da-b838-4b73-858c-9b3e1e09fcc9\">\n",
              "    <div class=\"colab-df-container\">\n",
              "      <div>\n",
              "<style scoped>\n",
              "    .dataframe tbody tr th:only-of-type {\n",
              "        vertical-align: middle;\n",
              "    }\n",
              "\n",
              "    .dataframe tbody tr th {\n",
              "        vertical-align: top;\n",
              "    }\n",
              "\n",
              "    .dataframe thead th {\n",
              "        text-align: right;\n",
              "    }\n",
              "</style>\n",
              "<table border=\"1\" class=\"dataframe\">\n",
              "  <thead>\n",
              "    <tr style=\"text-align: right;\">\n",
              "      <th></th>\n",
              "      <th>DailyStudyHour</th>\n",
              "      <th>AvgCTMarks</th>\n",
              "      <th>ClsAttnPer</th>\n",
              "      <th>PL_SPLStudyHours</th>\n",
              "      <th>PL_SPLSleepingHours</th>\n",
              "      <th>AvgSleepingHours</th>\n",
              "      <th>SocialMediaHours</th>\n",
              "      <th>PL_SPLSocialMediaHours</th>\n",
              "      <th>ConcenInCls</th>\n",
              "      <th>Confidence</th>\n",
              "      <th>GPA</th>\n",
              "    </tr>\n",
              "  </thead>\n",
              "  <tbody>\n",
              "    <tr>\n",
              "      <th>0</th>\n",
              "      <td>1</td>\n",
              "      <td>8</td>\n",
              "      <td>65</td>\n",
              "      <td>12</td>\n",
              "      <td>6</td>\n",
              "      <td>8.0</td>\n",
              "      <td>3</td>\n",
              "      <td>1</td>\n",
              "      <td>NaN</td>\n",
              "      <td>3</td>\n",
              "      <td>3.25</td>\n",
              "    </tr>\n",
              "    <tr>\n",
              "      <th>1</th>\n",
              "      <td>2</td>\n",
              "      <td>12</td>\n",
              "      <td>95</td>\n",
              "      <td>9</td>\n",
              "      <td>10</td>\n",
              "      <td>10.0</td>\n",
              "      <td>2</td>\n",
              "      <td>1</td>\n",
              "      <td>7.0</td>\n",
              "      <td>7</td>\n",
              "      <td>3.84</td>\n",
              "    </tr>\n",
              "    <tr>\n",
              "      <th>2</th>\n",
              "      <td>2</td>\n",
              "      <td>15</td>\n",
              "      <td>96</td>\n",
              "      <td>13</td>\n",
              "      <td>6</td>\n",
              "      <td>8.0</td>\n",
              "      <td>5</td>\n",
              "      <td>2</td>\n",
              "      <td>5.0</td>\n",
              "      <td>8</td>\n",
              "      <td>3.61</td>\n",
              "    </tr>\n",
              "    <tr>\n",
              "      <th>3</th>\n",
              "      <td>1</td>\n",
              "      <td>9</td>\n",
              "      <td>70</td>\n",
              "      <td>6</td>\n",
              "      <td>8</td>\n",
              "      <td>8.0</td>\n",
              "      <td>3</td>\n",
              "      <td>2</td>\n",
              "      <td>7.0</td>\n",
              "      <td>9</td>\n",
              "      <td>3.41</td>\n",
              "    </tr>\n",
              "    <tr>\n",
              "      <th>4</th>\n",
              "      <td>1</td>\n",
              "      <td>8</td>\n",
              "      <td>60</td>\n",
              "      <td>10</td>\n",
              "      <td>9</td>\n",
              "      <td>8.0</td>\n",
              "      <td>2</td>\n",
              "      <td>2</td>\n",
              "      <td>3.0</td>\n",
              "      <td>4</td>\n",
              "      <td>3.14</td>\n",
              "    </tr>\n",
              "  </tbody>\n",
              "</table>\n",
              "</div>\n",
              "      <button class=\"colab-df-convert\" onclick=\"convertToInteractive('df-3819a2da-b838-4b73-858c-9b3e1e09fcc9')\"\n",
              "              title=\"Convert this dataframe to an interactive table.\"\n",
              "              style=\"display:none;\">\n",
              "        \n",
              "  <svg xmlns=\"http://www.w3.org/2000/svg\" height=\"24px\"viewBox=\"0 0 24 24\"\n",
              "       width=\"24px\">\n",
              "    <path d=\"M0 0h24v24H0V0z\" fill=\"none\"/>\n",
              "    <path d=\"M18.56 5.44l.94 2.06.94-2.06 2.06-.94-2.06-.94-.94-2.06-.94 2.06-2.06.94zm-11 1L8.5 8.5l.94-2.06 2.06-.94-2.06-.94L8.5 2.5l-.94 2.06-2.06.94zm10 10l.94 2.06.94-2.06 2.06-.94-2.06-.94-.94-2.06-.94 2.06-2.06.94z\"/><path d=\"M17.41 7.96l-1.37-1.37c-.4-.4-.92-.59-1.43-.59-.52 0-1.04.2-1.43.59L10.3 9.45l-7.72 7.72c-.78.78-.78 2.05 0 2.83L4 21.41c.39.39.9.59 1.41.59.51 0 1.02-.2 1.41-.59l7.78-7.78 2.81-2.81c.8-.78.8-2.07 0-2.86zM5.41 20L4 18.59l7.72-7.72 1.47 1.35L5.41 20z\"/>\n",
              "  </svg>\n",
              "      </button>\n",
              "      \n",
              "  <style>\n",
              "    .colab-df-container {\n",
              "      display:flex;\n",
              "      flex-wrap:wrap;\n",
              "      gap: 12px;\n",
              "    }\n",
              "\n",
              "    .colab-df-convert {\n",
              "      background-color: #E8F0FE;\n",
              "      border: none;\n",
              "      border-radius: 50%;\n",
              "      cursor: pointer;\n",
              "      display: none;\n",
              "      fill: #1967D2;\n",
              "      height: 32px;\n",
              "      padding: 0 0 0 0;\n",
              "      width: 32px;\n",
              "    }\n",
              "\n",
              "    .colab-df-convert:hover {\n",
              "      background-color: #E2EBFA;\n",
              "      box-shadow: 0px 1px 2px rgba(60, 64, 67, 0.3), 0px 1px 3px 1px rgba(60, 64, 67, 0.15);\n",
              "      fill: #174EA6;\n",
              "    }\n",
              "\n",
              "    [theme=dark] .colab-df-convert {\n",
              "      background-color: #3B4455;\n",
              "      fill: #D2E3FC;\n",
              "    }\n",
              "\n",
              "    [theme=dark] .colab-df-convert:hover {\n",
              "      background-color: #434B5C;\n",
              "      box-shadow: 0px 1px 3px 1px rgba(0, 0, 0, 0.15);\n",
              "      filter: drop-shadow(0px 1px 2px rgba(0, 0, 0, 0.3));\n",
              "      fill: #FFFFFF;\n",
              "    }\n",
              "  </style>\n",
              "\n",
              "      <script>\n",
              "        const buttonEl =\n",
              "          document.querySelector('#df-3819a2da-b838-4b73-858c-9b3e1e09fcc9 button.colab-df-convert');\n",
              "        buttonEl.style.display =\n",
              "          google.colab.kernel.accessAllowed ? 'block' : 'none';\n",
              "\n",
              "        async function convertToInteractive(key) {\n",
              "          const element = document.querySelector('#df-3819a2da-b838-4b73-858c-9b3e1e09fcc9');\n",
              "          const dataTable =\n",
              "            await google.colab.kernel.invokeFunction('convertToInteractive',\n",
              "                                                     [key], {});\n",
              "          if (!dataTable) return;\n",
              "\n",
              "          const docLinkHtml = 'Like what you see? Visit the ' +\n",
              "            '<a target=\"_blank\" href=https://colab.research.google.com/notebooks/data_table.ipynb>data table notebook</a>'\n",
              "            + ' to learn more about interactive tables.';\n",
              "          element.innerHTML = '';\n",
              "          dataTable['output_type'] = 'display_data';\n",
              "          await google.colab.output.renderOutput(dataTable, element);\n",
              "          const docLink = document.createElement('div');\n",
              "          docLink.innerHTML = docLinkHtml;\n",
              "          element.appendChild(docLink);\n",
              "        }\n",
              "      </script>\n",
              "    </div>\n",
              "  </div>\n",
              "  "
            ],
            "text/plain": [
              "   DailyStudyHour  AvgCTMarks  ClsAttnPer  ...  ConcenInCls  Confidence   GPA\n",
              "0               1           8          65  ...          NaN           3  3.25\n",
              "1               2          12          95  ...          7.0           7  3.84\n",
              "2               2          15          96  ...          5.0           8  3.61\n",
              "3               1           9          70  ...          7.0           9  3.41\n",
              "4               1           8          60  ...          3.0           4  3.14\n",
              "\n",
              "[5 rows x 11 columns]"
            ]
          },
          "execution_count": 5,
          "metadata": {},
          "output_type": "execute_result"
        }
      ],
      "source": [
        "dataset = dataset.rename(columns={'Daily Study Hour (0 - )':'DailyStudyHour', 'Average CT Marks (0 - 20)':'AvgCTMarks', 'Class Attendance (percentage)':'ClsAttnPer', 'PL/SPL Study Hours (Daily) (0 - )':'PL_SPLStudyHours', 'PL/SPL Sleeping Hours (Daily Average)':'PL_SPLSleepingHours', 'Average Sleeping Hours (Daily)':'AvgSleepingHours', 'Social Media Hours (Daily Average)':'SocialMediaHours', 'PL/SPL Social Media Hours (Daily Average)':'PL_SPLSocialMediaHours', 'Concentration in Classes (0 - 10)':'ConcenInCls', 'Confidence (0 - 10)':'Confidence', 'Final Grade (last Semester - 3-2) (GPA) ':'FinalGrade'})\n",
        "dataset.head()"
      ]
    },
    {
      "cell_type": "code",
      "execution_count": null,
      "metadata": {
        "colab": {
          "base_uri": "https://localhost:8080/",
          "height": 357
        },
        "id": "LaDX62S9KaqU",
        "outputId": "057295a4-f106-4388-b317-ace123969926"
      },
      "outputs": [
        {
          "name": "stderr",
          "output_type": "stream",
          "text": [
            "/usr/local/lib/python3.7/dist-packages/ipykernel_launcher.py:1: SettingWithCopyWarning: \n",
            "A value is trying to be set on a copy of a slice from a DataFrame\n",
            "\n",
            "See the caveats in the documentation: https://pandas.pydata.org/pandas-docs/stable/user_guide/indexing.html#returning-a-view-versus-a-copy\n",
            "  \"\"\"Entry point for launching an IPython kernel.\n"
          ]
        },
        {
          "data": {
            "text/html": [
              "\n",
              "  <div id=\"df-c5c92f2c-fa44-4293-9564-df4240a6443d\">\n",
              "    <div class=\"colab-df-container\">\n",
              "      <div>\n",
              "<style scoped>\n",
              "    .dataframe tbody tr th:only-of-type {\n",
              "        vertical-align: middle;\n",
              "    }\n",
              "\n",
              "    .dataframe tbody tr th {\n",
              "        vertical-align: top;\n",
              "    }\n",
              "\n",
              "    .dataframe thead th {\n",
              "        text-align: right;\n",
              "    }\n",
              "</style>\n",
              "<table border=\"1\" class=\"dataframe\">\n",
              "  <thead>\n",
              "    <tr style=\"text-align: right;\">\n",
              "      <th></th>\n",
              "      <th>DailyStudyHour</th>\n",
              "      <th>AvgCTMarks</th>\n",
              "      <th>ClsAttnPer</th>\n",
              "      <th>PL_SPLStudyHours</th>\n",
              "      <th>PL_SPLSleepingHours</th>\n",
              "      <th>AvgSleepingHours</th>\n",
              "      <th>SocialMediaHours</th>\n",
              "      <th>PL_SPLSocialMediaHours</th>\n",
              "      <th>ConcenInCls</th>\n",
              "      <th>Confidence</th>\n",
              "      <th>GPA</th>\n",
              "    </tr>\n",
              "  </thead>\n",
              "  <tbody>\n",
              "    <tr>\n",
              "      <th>0</th>\n",
              "      <td>1</td>\n",
              "      <td>8</td>\n",
              "      <td>65</td>\n",
              "      <td>12</td>\n",
              "      <td>6</td>\n",
              "      <td>8.0</td>\n",
              "      <td>3</td>\n",
              "      <td>1</td>\n",
              "      <td>5.0</td>\n",
              "      <td>3</td>\n",
              "      <td>3.25</td>\n",
              "    </tr>\n",
              "    <tr>\n",
              "      <th>1</th>\n",
              "      <td>2</td>\n",
              "      <td>12</td>\n",
              "      <td>95</td>\n",
              "      <td>9</td>\n",
              "      <td>10</td>\n",
              "      <td>10.0</td>\n",
              "      <td>2</td>\n",
              "      <td>1</td>\n",
              "      <td>7.0</td>\n",
              "      <td>7</td>\n",
              "      <td>3.84</td>\n",
              "    </tr>\n",
              "    <tr>\n",
              "      <th>2</th>\n",
              "      <td>2</td>\n",
              "      <td>15</td>\n",
              "      <td>96</td>\n",
              "      <td>13</td>\n",
              "      <td>6</td>\n",
              "      <td>8.0</td>\n",
              "      <td>5</td>\n",
              "      <td>2</td>\n",
              "      <td>5.0</td>\n",
              "      <td>8</td>\n",
              "      <td>3.61</td>\n",
              "    </tr>\n",
              "    <tr>\n",
              "      <th>3</th>\n",
              "      <td>1</td>\n",
              "      <td>9</td>\n",
              "      <td>70</td>\n",
              "      <td>6</td>\n",
              "      <td>8</td>\n",
              "      <td>8.0</td>\n",
              "      <td>3</td>\n",
              "      <td>2</td>\n",
              "      <td>7.0</td>\n",
              "      <td>9</td>\n",
              "      <td>3.41</td>\n",
              "    </tr>\n",
              "    <tr>\n",
              "      <th>4</th>\n",
              "      <td>1</td>\n",
              "      <td>8</td>\n",
              "      <td>60</td>\n",
              "      <td>10</td>\n",
              "      <td>9</td>\n",
              "      <td>8.0</td>\n",
              "      <td>2</td>\n",
              "      <td>2</td>\n",
              "      <td>3.0</td>\n",
              "      <td>4</td>\n",
              "      <td>3.14</td>\n",
              "    </tr>\n",
              "  </tbody>\n",
              "</table>\n",
              "</div>\n",
              "      <button class=\"colab-df-convert\" onclick=\"convertToInteractive('df-c5c92f2c-fa44-4293-9564-df4240a6443d')\"\n",
              "              title=\"Convert this dataframe to an interactive table.\"\n",
              "              style=\"display:none;\">\n",
              "        \n",
              "  <svg xmlns=\"http://www.w3.org/2000/svg\" height=\"24px\"viewBox=\"0 0 24 24\"\n",
              "       width=\"24px\">\n",
              "    <path d=\"M0 0h24v24H0V0z\" fill=\"none\"/>\n",
              "    <path d=\"M18.56 5.44l.94 2.06.94-2.06 2.06-.94-2.06-.94-.94-2.06-.94 2.06-2.06.94zm-11 1L8.5 8.5l.94-2.06 2.06-.94-2.06-.94L8.5 2.5l-.94 2.06-2.06.94zm10 10l.94 2.06.94-2.06 2.06-.94-2.06-.94-.94-2.06-.94 2.06-2.06.94z\"/><path d=\"M17.41 7.96l-1.37-1.37c-.4-.4-.92-.59-1.43-.59-.52 0-1.04.2-1.43.59L10.3 9.45l-7.72 7.72c-.78.78-.78 2.05 0 2.83L4 21.41c.39.39.9.59 1.41.59.51 0 1.02-.2 1.41-.59l7.78-7.78 2.81-2.81c.8-.78.8-2.07 0-2.86zM5.41 20L4 18.59l7.72-7.72 1.47 1.35L5.41 20z\"/>\n",
              "  </svg>\n",
              "      </button>\n",
              "      \n",
              "  <style>\n",
              "    .colab-df-container {\n",
              "      display:flex;\n",
              "      flex-wrap:wrap;\n",
              "      gap: 12px;\n",
              "    }\n",
              "\n",
              "    .colab-df-convert {\n",
              "      background-color: #E8F0FE;\n",
              "      border: none;\n",
              "      border-radius: 50%;\n",
              "      cursor: pointer;\n",
              "      display: none;\n",
              "      fill: #1967D2;\n",
              "      height: 32px;\n",
              "      padding: 0 0 0 0;\n",
              "      width: 32px;\n",
              "    }\n",
              "\n",
              "    .colab-df-convert:hover {\n",
              "      background-color: #E2EBFA;\n",
              "      box-shadow: 0px 1px 2px rgba(60, 64, 67, 0.3), 0px 1px 3px 1px rgba(60, 64, 67, 0.15);\n",
              "      fill: #174EA6;\n",
              "    }\n",
              "\n",
              "    [theme=dark] .colab-df-convert {\n",
              "      background-color: #3B4455;\n",
              "      fill: #D2E3FC;\n",
              "    }\n",
              "\n",
              "    [theme=dark] .colab-df-convert:hover {\n",
              "      background-color: #434B5C;\n",
              "      box-shadow: 0px 1px 3px 1px rgba(0, 0, 0, 0.15);\n",
              "      filter: drop-shadow(0px 1px 2px rgba(0, 0, 0, 0.3));\n",
              "      fill: #FFFFFF;\n",
              "    }\n",
              "  </style>\n",
              "\n",
              "      <script>\n",
              "        const buttonEl =\n",
              "          document.querySelector('#df-c5c92f2c-fa44-4293-9564-df4240a6443d button.colab-df-convert');\n",
              "        buttonEl.style.display =\n",
              "          google.colab.kernel.accessAllowed ? 'block' : 'none';\n",
              "\n",
              "        async function convertToInteractive(key) {\n",
              "          const element = document.querySelector('#df-c5c92f2c-fa44-4293-9564-df4240a6443d');\n",
              "          const dataTable =\n",
              "            await google.colab.kernel.invokeFunction('convertToInteractive',\n",
              "                                                     [key], {});\n",
              "          if (!dataTable) return;\n",
              "\n",
              "          const docLinkHtml = 'Like what you see? Visit the ' +\n",
              "            '<a target=\"_blank\" href=https://colab.research.google.com/notebooks/data_table.ipynb>data table notebook</a>'\n",
              "            + ' to learn more about interactive tables.';\n",
              "          element.innerHTML = '';\n",
              "          dataTable['output_type'] = 'display_data';\n",
              "          await google.colab.output.renderOutput(dataTable, element);\n",
              "          const docLink = document.createElement('div');\n",
              "          docLink.innerHTML = docLinkHtml;\n",
              "          element.appendChild(docLink);\n",
              "        }\n",
              "      </script>\n",
              "    </div>\n",
              "  </div>\n",
              "  "
            ],
            "text/plain": [
              "   DailyStudyHour  AvgCTMarks  ClsAttnPer  ...  ConcenInCls  Confidence   GPA\n",
              "0               1           8          65  ...          5.0           3  3.25\n",
              "1               2          12          95  ...          7.0           7  3.84\n",
              "2               2          15          96  ...          5.0           8  3.61\n",
              "3               1           9          70  ...          7.0           9  3.41\n",
              "4               1           8          60  ...          3.0           4  3.14\n",
              "\n",
              "[5 rows x 11 columns]"
            ]
          },
          "execution_count": 6,
          "metadata": {},
          "output_type": "execute_result"
        }
      ],
      "source": [
        "dataset['ConcenInCls'][0] = 5\n",
        "dataset.head()"
      ]
    },
    {
      "cell_type": "code",
      "execution_count": null,
      "metadata": {
        "colab": {
          "base_uri": "https://localhost:8080/"
        },
        "id": "sQrmstQlKakr",
        "outputId": "5608cc2c-59cf-4738-bfc1-c2e8da6db839"
      },
      "outputs": [
        {
          "data": {
            "text/plain": [
              "0    3.25\n",
              "1    3.84\n",
              "2    3.61\n",
              "3    3.41\n",
              "4    3.14\n",
              "Name: GPA, dtype: float64"
            ]
          },
          "execution_count": 10,
          "metadata": {},
          "output_type": "execute_result"
        }
      ],
      "source": [
        "dataset['GPA'].head()"
      ]
    },
    {
      "cell_type": "code",
      "execution_count": null,
      "metadata": {
        "colab": {
          "base_uri": "https://localhost:8080/"
        },
        "id": "TYk75kqbKafj",
        "outputId": "d60310aa-cdb7-4a8f-8788-47975e4f7f85"
      },
      "outputs": [
        {
          "name": "stderr",
          "output_type": "stream",
          "text": [
            "/usr/local/lib/python3.7/dist-packages/ipykernel_launcher.py:4: SettingWithCopyWarning: \n",
            "A value is trying to be set on a copy of a slice from a DataFrame\n",
            "\n",
            "See the caveats in the documentation: https://pandas.pydata.org/pandas-docs/stable/user_guide/indexing.html#returning-a-view-versus-a-copy\n",
            "  after removing the cwd from sys.path.\n",
            "/usr/local/lib/python3.7/dist-packages/ipykernel_launcher.py:8: SettingWithCopyWarning: \n",
            "A value is trying to be set on a copy of a slice from a DataFrame\n",
            "\n",
            "See the caveats in the documentation: https://pandas.pydata.org/pandas-docs/stable/user_guide/indexing.html#returning-a-view-versus-a-copy\n",
            "  \n",
            "/usr/local/lib/python3.7/dist-packages/ipykernel_launcher.py:6: SettingWithCopyWarning: \n",
            "A value is trying to be set on a copy of a slice from a DataFrame\n",
            "\n",
            "See the caveats in the documentation: https://pandas.pydata.org/pandas-docs/stable/user_guide/indexing.html#returning-a-view-versus-a-copy\n",
            "  \n"
          ]
        }
      ],
      "source": [
        "len = dataset['GPA'].shape[0]\n",
        "for i in range(len):\n",
        "  if (dataset['GPA'][i] >= 3.0 and dataset['GPA'][i] < 3.50):\n",
        "    dataset['GPA'][i] = 1\n",
        "  elif (dataset['GPA'][i] >= 3.50 and dataset['GPA'][i] < 3.75):\n",
        "    dataset['GPA'][i] = 2\n",
        "  elif (dataset['GPA'][i] >= 3.75 and dataset['GPA'][i] <= 4.0):\n",
        "    dataset['GPA'][i] = 3"
      ]
    },
    {
      "cell_type": "code",
      "execution_count": null,
      "metadata": {
        "colab": {
          "base_uri": "https://localhost:8080/"
        },
        "id": "Q62y3O-wKaPR",
        "outputId": "4b38a351-5c05-4e35-9f0a-89a6b29ad446"
      },
      "outputs": [
        {
          "name": "stderr",
          "output_type": "stream",
          "text": [
            "/usr/local/lib/python3.7/dist-packages/ipykernel_launcher.py:3: SettingWithCopyWarning: \n",
            "A value is trying to be set on a copy of a slice from a DataFrame\n",
            "\n",
            "See the caveats in the documentation: https://pandas.pydata.org/pandas-docs/stable/user_guide/indexing.html#returning-a-view-versus-a-copy\n",
            "  This is separate from the ipykernel package so we can avoid doing imports until\n"
          ]
        }
      ],
      "source": [
        "import math \n",
        "for i in range(len):\n",
        "  dataset['GPA'][i] = int(dataset['GPA'][i])"
      ]
    },
    {
      "cell_type": "code",
      "execution_count": null,
      "metadata": {
        "colab": {
          "base_uri": "https://localhost:8080/"
        },
        "id": "DZN3b32yKaL8",
        "outputId": "83e80820-d6a5-4914-d6cb-33bc3856c4d9"
      },
      "outputs": [
        {
          "data": {
            "text/plain": [
              "0     1.0\n",
              "1     3.0\n",
              "2     2.0\n",
              "3     1.0\n",
              "4     1.0\n",
              "     ... \n",
              "83    3.0\n",
              "84    1.0\n",
              "85    3.0\n",
              "86    3.0\n",
              "87    1.0\n",
              "Name: GPA, Length: 88, dtype: float64"
            ]
          },
          "execution_count": 14,
          "metadata": {},
          "output_type": "execute_result"
        }
      ],
      "source": [
        "dataset['GPA']"
      ]
    },
    {
      "cell_type": "code",
      "execution_count": null,
      "metadata": {
        "id": "9TPBDsdjKaJw"
      },
      "outputs": [],
      "source": [
        "feature_cols = ['DailyStudyHour', 'AvgCTMarks', 'ClsAttnPer', 'PL_SPLStudyHours', 'PL_SPLSleepingHours', 'AvgSleepingHours', 'SocialMediaHours', 'PL_SPLSocialMediaHours', 'ConcenInCls', 'Confidence']\n",
        "X = dataset[feature_cols]\n",
        "Y = dataset.GPA"
      ]
    },
    {
      "cell_type": "code",
      "execution_count": null,
      "metadata": {
        "id": "uTgTKjcWKaHE"
      },
      "outputs": [],
      "source": [
        "# Split dataset into training set and test set\n",
        "X_train, X_test, Y_train, Y_test = train_test_split(X, Y, test_size=0.2, random_state=42)"
      ]
    },
    {
      "cell_type": "code",
      "execution_count": null,
      "metadata": {
        "id": "PbtFjHTnQ0sc"
      },
      "outputs": [],
      "source": [
        "#KNN\n",
        "from sklearn.preprocessing import StandardScaler\n",
        "scaler = StandardScaler()\n",
        "scaler.fit(X_train)\n",
        "\n",
        "X_train = scaler.transform(X_train)\n",
        "X_test = scaler.transform(X_test)"
      ]
    },
    {
      "cell_type": "code",
      "execution_count": null,
      "metadata": {
        "id": "k_L9kIEYQ7uJ"
      },
      "outputs": [],
      "source": [
        "# Create KNN object\n",
        "knn = KNeighborsClassifier(n_neighbors=10)\n",
        "\n",
        "# Train KNN\n",
        "knn = knn.fit(X_train, Y_train)\n",
        "\n",
        "#Predict the response for test dataset\n",
        "y_pred = knn.predict(X_test)"
      ]
    },
    {
      "cell_type": "code",
      "execution_count": null,
      "metadata": {
        "colab": {
          "base_uri": "https://localhost:8080/"
        },
        "id": "CBLM2WUPRARp",
        "outputId": "c9a626ec-54a1-4c5c-a458-0f654062655b"
      },
      "outputs": [
        {
          "data": {
            "text/plain": [
              "array([3., 1., 3., 3., 3.])"
            ]
          },
          "execution_count": 20,
          "metadata": {},
          "output_type": "execute_result"
        }
      ],
      "source": [
        "y_pred[:5]"
      ]
    },
    {
      "cell_type": "code",
      "execution_count": null,
      "metadata": {
        "colab": {
          "base_uri": "https://localhost:8080/"
        },
        "id": "n8sobP6DRAL7",
        "outputId": "84289277-540a-4a17-af87-501b31dd37cd"
      },
      "outputs": [
        {
          "name": "stdout",
          "output_type": "stream",
          "text": [
            "Accuracy: 0.6666666666666666\n"
          ]
        }
      ],
      "source": [
        "# Model Accuracy, how often is the classifier correct?\n",
        "print(\"Accuracy:\", accuracy_score(Y_test, y_pred))"
      ]
    },
    {
      "cell_type": "code",
      "execution_count": null,
      "metadata": {
        "colab": {
          "base_uri": "https://localhost:8080/"
        },
        "id": "866LxRdjQ7jK",
        "outputId": "b7f09e37-c714-487e-89cb-49d972431920"
      },
      "outputs": [
        {
          "data": {
            "text/plain": [
              "array([[6, 0, 1],\n",
              "       [1, 0, 2],\n",
              "       [1, 1, 6]])"
            ]
          },
          "execution_count": 22,
          "metadata": {},
          "output_type": "execute_result"
        }
      ],
      "source": [
        "cm_knn = np.array(confusion_matrix(Y_test, y_pred))\n",
        "cm_knn"
      ]
    },
    {
      "cell_type": "code",
      "execution_count": null,
      "metadata": {
        "colab": {
          "base_uri": "https://localhost:8080/"
        },
        "id": "agVJKcMRRteC",
        "outputId": "4bde9b65-5924-4b5f-b6c5-3ce12a120d53"
      },
      "outputs": [
        {
          "name": "stdout",
          "output_type": "stream",
          "text": [
            "0.5\n",
            "0.5555555555555556\n",
            "0.5555555555555556\n",
            "0.6111111111111112\n",
            "0.4444444444444444\n",
            "0.4444444444444444\n",
            "0.3888888888888889\n",
            "0.4444444444444444\n",
            "0.3888888888888889\n",
            "0.3333333333333333\n",
            "0.3888888888888889\n",
            "0.3888888888888889\n",
            "0.3333333333333333\n",
            "0.3333333333333333\n",
            "0.3888888888888889\n",
            "0.4444444444444444\n",
            "0.4444444444444444\n",
            "0.4444444444444444\n",
            "0.4444444444444444\n",
            "0.5\n",
            "0.3888888888888889\n",
            "0.4444444444444444\n",
            "0.4444444444444444\n",
            "0.4444444444444444\n",
            "0.4444444444444444\n",
            "0.5\n",
            "0.3888888888888889\n",
            "0.4444444444444444\n",
            "0.4444444444444444\n",
            "0.4444444444444444\n",
            "0.5\n",
            "0.4444444444444444\n",
            "0.5\n",
            "0.5\n",
            "0.5\n",
            "0.5555555555555556\n",
            "0.5555555555555556\n",
            "0.5555555555555556\n",
            "0.5555555555555556\n",
            "0.5555555555555556\n",
            "0.5555555555555556\n",
            "0.5555555555555556\n",
            "0.5555555555555556\n",
            "0.5555555555555556\n",
            "0.5555555555555556\n",
            "0.5555555555555556\n",
            "0.5555555555555556\n",
            "0.5555555555555556\n",
            "0.5555555555555556\n",
            "0.5555555555555556\n",
            "0.5555555555555556\n",
            "0.5555555555555556\n",
            "0.5555555555555556\n",
            "0.5555555555555556\n",
            "0.5555555555555556\n",
            "0.5555555555555556\n",
            "0.5555555555555556\n",
            "0.5555555555555556\n",
            "0.5555555555555556\n",
            "0.5555555555555556\n",
            "0.5555555555555556\n",
            "0.5555555555555556\n",
            "0.5555555555555556\n",
            "0.5555555555555556\n",
            "0.5555555555555556\n",
            "0.5555555555555556\n",
            "0.5555555555555556\n",
            "0.5555555555555556\n",
            "0.5555555555555556\n"
          ]
        }
      ],
      "source": [
        "error = []\n",
        "\n",
        "# Calculating error for K values between 1 and 40\n",
        "for i in range(1, 70):\n",
        "    knn = KNeighborsClassifier(n_neighbors=i)\n",
        "    knn.fit(X_train, Y_train)\n",
        "    pred_i = knn.predict(X_test)\n",
        "    error.append(np.mean(pred_i != Y_test))\n",
        "    print(np.mean(pred_i != Y_test))"
      ]
    },
    {
      "cell_type": "code",
      "execution_count": null,
      "metadata": {
        "colab": {
          "base_uri": "https://localhost:8080/",
          "height": 421
        },
        "id": "CrBf2-pSQ0nL",
        "outputId": "6ad1b9f3-3255-4232-8b2f-d8bdfa4bb434"
      },
      "outputs": [
        {
          "data": {
            "text/plain": [
              "Text(0, 0.5, 'Mean Error')"
            ]
          },
          "execution_count": 24,
          "metadata": {},
          "output_type": "execute_result"
        },
        {
          "data": {
            "image/png": "[encoded data removed]",
            "text/plain": [
              "<Figure size 864x432 with 1 Axes>"
            ]
          },
          "metadata": {},
          "output_type": "display_data"
        }
      ],
      "source": [
        "plt.figure(figsize=(12, 6))\n",
        "plt.plot(range(1, 70), error, color='red', linestyle='dashed', marker='o',\n",
        "         markerfacecolor='blue', markersize=10)\n",
        "plt.title('Error Rate K Value')\n",
        "plt.xlabel('K Value')\n",
        "plt.ylabel('Mean Error')"
      ]
    },
    {
      "cell_type": "code",
      "execution_count": null,
      "metadata": {
        "id": "GXnA8tO7Q0kJ"
      },
      "outputs": [],
      "source": [
        "#ENSEMBLE\n",
        "\n",
        "knn1 = KNeighborsClassifier(n_neighbors=10)\n",
        "knn1 = knn1.fit(X_train, Y_train)\n",
        "\n",
        "knn2 = KNeighborsClassifier(n_neighbors=14)\n",
        "knn2 = knn2.fit(X_train, Y_train)\n",
        "\n",
        "knn3 = KNeighborsClassifier(n_neighbors=13)\n",
        "knn3 = knn3.fit(X_train, Y_train)"
      ]
    },
    {
      "cell_type": "code",
      "execution_count": null,
      "metadata": {
        "colab": {
          "base_uri": "https://localhost:8080/"
        },
        "id": "DnyK4WohaaBb",
        "outputId": "5b3ad387-7e7c-4933-bd25-1273b761c080"
      },
      "outputs": [
        {
          "data": {
            "text/plain": [
              "StackingClassifier(estimators=[('knn1', KNeighborsClassifier(n_neighbors=10)),\n",
              "                               ('knn2', KNeighborsClassifier(n_neighbors=14)),\n",
              "                               ('knn3', KNeighborsClassifier(n_neighbors=13))],\n",
              "                   final_estimator=LogisticRegression())"
            ]
          },
          "execution_count": 26,
          "metadata": {},
          "output_type": "execute_result"
        }
      ],
      "source": [
        "from sklearn.ensemble import StackingClassifier\n",
        "from sklearn.linear_model import LogisticRegression\n",
        "\n",
        "esetimator = [('knn1', knn1), ('knn2', knn2), ('knn3', knn3)]\n",
        "\n",
        "esnml_model = StackingClassifier(estimators=esetimator, final_estimator=LogisticRegression())\n",
        "\n",
        "esnml_model.fit(X_train, Y_train)"
      ]
    },
    {
      "cell_type": "code",
      "execution_count": null,
      "metadata": {
        "colab": {
          "base_uri": "https://localhost:8080/"
        },
        "id": "B49JtD7oSDnZ",
        "outputId": "78ae107a-9fd7-4fad-f984-f31ea98eac8a"
      },
      "outputs": [
        {
          "name": "stdout",
          "output_type": "stream",
          "text": [
            "Accuracy: 0.6666666666666666\n"
          ]
        }
      ],
      "source": [
        "y_pred_ens = esnml_model.predict(X_test)\n",
        "print(\"Accuracy:\", accuracy_score(Y_test, y_pred))"
      ]
    },
    {
      "cell_type": "code",
      "execution_count": null,
      "metadata": {
        "colab": {
          "base_uri": "https://localhost:8080/"
        },
        "id": "SkFgGL_2SDYa",
        "outputId": "f65665fa-d04a-49eb-8c03-db1d56b226df"
      },
      "outputs": [
        {
          "data": {
            "text/plain": [
              "array([[6, 0, 1],\n",
              "       [1, 0, 2],\n",
              "       [1, 1, 6]])"
            ]
          },
          "execution_count": 28,
          "metadata": {},
          "output_type": "execute_result"
        }
      ],
      "source": [
        "cm_knn_ens = np.array(confusion_matrix(Y_test, y_pred))\n",
        "cm_knn_ens"
      ]
    },
    {
      "cell_type": "code",
      "execution_count": null,
      "metadata": {
        "colab": {
          "background_save": true
        },
        "id": "JbuUsu_WavaX",
        "outputId": "71a2cbdb-185b-4f44-c606-7c88eb1a054f"
      },
      "outputs": [
        {
          "ename": "NameError",
          "evalue": "ignored",
          "output_type": "error",
          "traceback": [
            "\u001b[0;31m---------------------------------------------------------------------------\u001b[0m",
            "\u001b[0;31mNameError\u001b[0m                                 Traceback (most recent call last)",
            "\u001b[0;32m<ipython-input-2-708e1f4353ae>\u001b[0m in \u001b[0;36m<module>\u001b[0;34m()\u001b[0m\n\u001b[1;32m      2\u001b[0m \u001b[0;31m# Create Decision Tree object\u001b[0m\u001b[0;34m\u001b[0m\u001b[0;34m\u001b[0m\u001b[0;34m\u001b[0m\u001b[0m\n\u001b[1;32m      3\u001b[0m \u001b[0;34m\u001b[0m\u001b[0m\n\u001b[0;32m----> 4\u001b[0;31m DT = DecisionTreeClassifier(criterion='entropy',\n\u001b[0m\u001b[1;32m      5\u001b[0m                             \u001b[0mrandom_state\u001b[0m\u001b[0;34m=\u001b[0m\u001b[0;36m1\u001b[0m\u001b[0;34m,\u001b[0m \u001b[0msplitter\u001b[0m\u001b[0;34m=\u001b[0m\u001b[0;34m'best'\u001b[0m\u001b[0;34m,\u001b[0m\u001b[0;34m\u001b[0m\u001b[0;34m\u001b[0m\u001b[0m\n\u001b[1;32m      6\u001b[0m                             class_weight ='balanced')\n",
            "\u001b[0;31mNameError\u001b[0m: name 'DecisionTreeClassifier' is not defined"
          ]
        }
      ],
      "source": [
        "#Decision Tree\n",
        "# Create Decision Tree object\n",
        "\n",
        "DT = DecisionTreeClassifier(criterion='entropy',\n",
        "                            random_state=1, splitter='best',\n",
        "                            class_weight ='balanced')\n",
        "\n",
        "# Train Decision Tree\n",
        "DT = DT.fit(X_train, Y_train)\n",
        "\n",
        "#Predict the response for test dataset\n",
        "y_pred_dt = DT.predict(X_test)"
      ]
    },
    {
      "cell_type": "code",
      "execution_count": null,
      "metadata": {
        "colab": {
          "base_uri": "https://localhost:8080/"
        },
        "id": "OlbFQf5Kb5i-",
        "outputId": "9ede377d-c9d3-4677-c8b4-ac8bd051c6a0"
      },
      "outputs": [
        {
          "name": "stdout",
          "output_type": "stream",
          "text": [
            "Accuracy: 0.6111111111111112\n"
          ]
        }
      ],
      "source": [
        "print(\"Accuracy:\", accuracy_score(Y_test, y_pred_dt))"
      ]
    },
    {
      "cell_type": "code",
      "execution_count": null,
      "metadata": {
        "colab": {
          "base_uri": "https://localhost:8080/"
        },
        "id": "N5u3-Bh2b9Km",
        "outputId": "abc3fc85-d791-4904-bece-cd84421ba396"
      },
      "outputs": [
        {
          "data": {
            "text/plain": [
              "array([3., 1., 3., 3., 2.])"
            ]
          },
          "execution_count": 31,
          "metadata": {},
          "output_type": "execute_result"
        }
      ],
      "source": [
        "y_pred_dt[:5]"
      ]
    },
    {
      "cell_type": "code",
      "execution_count": null,
      "metadata": {
        "colab": {
          "base_uri": "https://localhost:8080/"
        },
        "id": "BlT7tvAvb5e-",
        "outputId": "63acd682-1ae5-4a32-f2c6-be2208d560a2"
      },
      "outputs": [
        {
          "data": {
            "text/plain": [
              "array([[5, 1, 1],\n",
              "       [0, 2, 1],\n",
              "       [1, 3, 4]])"
            ]
          },
          "execution_count": 32,
          "metadata": {},
          "output_type": "execute_result"
        }
      ],
      "source": [
        "cm_dt = np.array(confusion_matrix(Y_test, y_pred_dt))\n",
        "cm_dt"
      ]
    },
    {
      "cell_type": "code",
      "execution_count": null,
      "metadata": {
        "colab": {
          "base_uri": "https://localhost:8080/",
          "height": 1000
        },
        "id": "fEST-7yBcA6V",
        "outputId": "3a248ebc-5c49-4232-e4a3-0b4f28213383"
      },
      "outputs": [
        {
          "data": {
            "image/png": "[encoded data removed]",
            "text/plain": [
              "<Figure size 1800x1800 with 1 Axes>"
            ]
          },
          "metadata": {},
          "output_type": "display_data"
        }
      ],
      "source": [
        "fig, ax = plt.subplots(figsize=(25, 25))\n",
        "tree.plot_tree(DT,ax=ax,feature_names=['DailyStudyHour', 'AvgCTMarks', 'ClsAttnPer', 'PL_SPLStudyHours', 'PL_SPLSleepingHours', 'AvgSleepingHours', 'SocialMediaHours', 'PL_SPLSocialMediaHours', 'ConcenInCls', 'Confidence'])\n",
        "plt.show()"
      ]
    },
    {
      "cell_type": "code",
      "execution_count": null,
      "metadata": {
        "colab": {
          "background_save": true
        },
        "id": "WqD5qnDHHDUm",
        "outputId": "a6543831-0d7b-4930-ace2-e839fe12f2e7"
      },
      "outputs": [
        {
          "ename": "NameError",
          "evalue": "ignored",
          "output_type": "error",
          "traceback": [
            "\u001b[0;31m---------------------------------------------------------------------------\u001b[0m",
            "\u001b[0;31mNameError\u001b[0m                                 Traceback (most recent call last)",
            "\u001b[0;32m<ipython-input-1-620a5f7b7544>\u001b[0m in \u001b[0;36m<module>\u001b[0;34m()\u001b[0m\n\u001b[1;32m      1\u001b[0m \u001b[0;31m# Decision Tree Classifier\u001b[0m\u001b[0;34m\u001b[0m\u001b[0;34m\u001b[0m\u001b[0;34m\u001b[0m\u001b[0m\n\u001b[1;32m      2\u001b[0m \u001b[0;31m#parameter tuning\u001b[0m\u001b[0;34m\u001b[0m\u001b[0;34m\u001b[0m\u001b[0;34m\u001b[0m\u001b[0m\n\u001b[0;32m----> 3\u001b[0;31m \u001b[0mdt\u001b[0m \u001b[0;34m=\u001b[0m \u001b[0mDecisionTreeClassifier\u001b[0m\u001b[0;34m(\u001b[0m\u001b[0;34m)\u001b[0m\u001b[0;34m\u001b[0m\u001b[0;34m\u001b[0m\u001b[0m\n\u001b[0m",
            "\u001b[0;31mNameError\u001b[0m: name 'DecisionTreeClassifier' is not defined"
          ]
        }
      ],
      "source": [
        "# Decision Tree Classifier \n",
        "#parameter tuning\n",
        "dt = DecisionTreeClassifier()"
      ]
    },
    {
      "cell_type": "code",
      "execution_count": null,
      "metadata": {
        "id": "eMef0hDwHVho"
      },
      "outputs": [],
      "source": [
        ""
      ]
    },
    {
      "cell_type": "code",
      "execution_count": null,
      "metadata": {
        "id": "kjcoAjzbHUxY"
      },
      "outputs": [],
      "source": [
        ""
      ]
    },
    {
      "cell_type": "code",
      "execution_count": null,
      "metadata": {
        "id": "GP2fFiQ7HUZQ"
      },
      "outputs": [],
      "source": [
        ""
      ]
    },
    {
      "cell_type": "code",
      "execution_count": null,
      "metadata": {
        "id": "rzgUX2ifHUCI"
      },
      "outputs": [],
      "source": [
        ""
      ]
    }
  ],
  "metadata": {
    "colab": {
      "collapsed_sections": [],
      "name": "Result Prediction with DT & KNN.ipynb",
      "provenance": [],
      "mount_file_id": "1p56zfnJpEVFsUUVcP_4_fIBPhz8zK-dm",
      "authorship_tag": "ABX9TyMxLQGSXz5S55XhP8DyEYgb",
      "include_colab_link": true
    },
    "kernelspec": {
      "display_name": "Python 3",
      "name": "python3"
    },
    "language_info": {
      "name": "python"
    }
  },
  "nbformat": 4,
  "nbformat_minor": 0
}